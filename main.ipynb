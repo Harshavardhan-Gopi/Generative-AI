{
 "cells": [
  {
   "cell_type": "code",
   "execution_count": 21,
   "metadata": {},
   "outputs": [],
   "source": [
    "import matplotlib.pyplot as plt\n",
    "%matplotlib inline\n",
    "\n",
    "from pathlib import Path\n",
    "import pickle\n",
    "\n",
    "import sys\n",
    "sys.path.append('../')\n",
    "\n",
    "from utils import draw\n",
    "from modules import HandwritingSynthesisNetwork, HandwritingPredictionNetwork\n",
    "from dataset import HandwritingDataset\n",
    "import torch"
   ]
  },
  {
   "cell_type": "markdown",
   "metadata": {},
   "source": [
    "### 1. Load the Handwriting dataset"
   ]
  },
  {
   "cell_type": "code",
   "execution_count": 29,
   "metadata": {},
   "outputs": [],
   "source": [
    "root = Path('../logs/retrain_seqlen_256')\n",
    "args = pickle.load(open(root / \"args.pkl\", \"rb\"))\n",
    "\n",
    "dataset = HandwritingDataset('../' + args.path, split='test')"
   ]
  },
  {
   "cell_type": "markdown",
   "metadata": {},
   "source": [
    "### 2. Load the Handwriting Synthesis Network"
   ]
  },
  {
   "cell_type": "code",
   "execution_count": 19,
   "metadata": {},
   "outputs": [],
   "source": [
    "model = HandwritingSynthesisNetwork(\n",
    "    test_dataset.vocab_size,\n",
    "    args.dec_hidden_size, args.dec_n_layers,\n",
    "    args.n_mixtures_attention, args.n_mixtures_output\n",
    ").cuda()\n",
    "model.load_state_dict(torch.load(root / 'model.pt'))"
   ]
  },
  {
   "cell_type": "markdown",
   "metadata": {},
   "source": [
    "### 3. Generate handwriting for given input text"
   ]
  },
  {
   "cell_type": "code",
   "execution_count": 28,
   "metadata": {},
   "outputs": [
    {
     "name": "stdout",
     "output_type": "stream",
     "text": [
      "Enter input: pytorch handwriting synthesis\n"
     ]
    },
    {
     "data": {
      "image/png": "[encoded data removed]",
      "text/plain": [
       "<Figure size 864x216 with 1 Axes>"
      ]
     },
     "metadata": {},
     "output_type": "display_data"
    }
   ],
   "source": [
    "string = input(\"Enter input: \") + \" \"\n",
    "\n",
    "chars = torch.from_numpy(\n",
    "    dataset.sent2idx(string)\n",
    ").long()[None].cuda()\n",
    "chars_mask = torch.ones_like(chars).float().cuda()\n",
    "\n",
    "with torch.no_grad():\n",
    "    out = model.sample(chars, chars_mask, maxlen=2000)[0].cpu().numpy()\n",
    "\n",
    "_ = draw(out[0], save_file=None)"
   ]
  },
  {
   "cell_type": "markdown",
   "metadata": {},
   "source": [
    "### 4. Load the Handwriting Prediction Network"
   ]
  },
  {
   "cell_type": "code",
   "execution_count": 34,
   "metadata": {},
   "outputs": [],
   "source": [
    "root = Path('../logs/new_code_uncond_256')\n",
    "args = pickle.load(open(root / \"args.pkl\", \"rb\"))\n",
    "\n",
    "model = HandwritingPredictionNetwork(\n",
    "    args.dec_hidden_size, args.dec_n_layers,\n",
    "    args.n_mixtures_output\n",
    ").cuda()\n",
    "model.load_state_dict(torch.load(root / 'model.pt'))"
   ]
  },
  {
   "cell_type": "markdown",
   "metadata": {},
   "source": [
    "### 5. Generate unconditional handwriting"
   ]
  },
  {
   "cell_type": "code",
   "execution_count": 35,
   "metadata": {},
   "outputs": [
    {
     "data": {
      "image/png": "[encoded data removed]",
      "text/plain": [
       "<Figure size 864x216 with 1 Axes>"
      ]
     },
     "metadata": {},
     "output_type": "display_data"
    }
   ],
   "source": [
    "with torch.no_grad():\n",
    "    out = model.sample(batch_size=1).cpu().numpy()\n",
    "\n",
    "_ = draw(out[0], save_file=None)"
   ]
  }
 ],
 "metadata": {
  "kernelspec": {
   "display_name": "Python 3",
   "language": "python",
   "name": "python3"
  },
  "language_info": {
   "codemirror_mode": {
    "name": "ipython",
    "version": 3
   },
   "file_extension": ".py",
   "mimetype": "text/x-python",
   "name": "python",
   "nbconvert_exporter": "python",
   "pygments_lexer": "ipython3",
   "version": "3.7.1"
  }
 },
 "nbformat": 4,
 "nbformat_minor": 2
}
